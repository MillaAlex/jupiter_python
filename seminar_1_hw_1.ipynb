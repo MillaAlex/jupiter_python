{
  "metadata": {
    "language_info": {
      "codemirror_mode": {
        "name": "python",
        "version": 3
      },
      "file_extension": ".py",
      "mimetype": "text/x-python",
      "name": "python",
      "nbconvert_exporter": "python",
      "pygments_lexer": "ipython3",
      "version": "3.8"
    },
    "kernelspec": {
      "name": "python",
      "display_name": "Python (Pyodide)",
      "language": "python"
    }
  },
  "nbformat_minor": 4,
  "nbformat": 4,
  "cells": [
    {
      "cell_type": "markdown",
      "source": "# Семинар 1, домашняя работа",
      "metadata": {}
    },
    {
      "cell_type": "markdown",
      "source": "## Задача 1.\n### На складе лежат разные фрукты в разном количестве. Нужно написать функцию, которая на вход принимает любое количество названий фруктов и их количество, а возвращает общее количество фруктов на складе.",
      "metadata": {}
    },
    {
      "cell_type": "code",
      "source": "import re",
      "metadata": {
        "trusted": true
      },
      "execution_count": 58,
      "outputs": []
    },
    {
      "cell_type": "code",
      "source": "def fruits_sum(**kwargs):\n    total_fruits = 0\n    for key, value in kwargs.items():\n        total_fruits += value\n    return f'Всего фруктов на складе: {total_fruits}'",
      "metadata": {
        "trusted": true
      },
      "execution_count": 59,
      "outputs": []
    },
    {
      "cell_type": "code",
      "source": "fruits_sum(banana=15, apple=3, kiwi=15, lemon=16)",
      "metadata": {
        "trusted": true
      },
      "execution_count": 60,
      "outputs": [
        {
          "execution_count": 60,
          "output_type": "execute_result",
          "data": {
            "text/plain": "'Всего фруктов на складе: 49'"
          },
          "metadata": {}
        }
      ]
    },
    {
      "cell_type": "markdown",
      "source": "## Задача 2.\n### Дан список с затратами на рекламу. Но в данных есть ошибки, некоторые затраты имеют отрицательную величину. Удалите такие значения из списка и посчитайте суммарные затраты [100, 125, -90, 345, 655, -1, 0, 200]\n### Используйте list comprehensions",
      "metadata": {}
    },
    {
      "cell_type": "code",
      "source": "ad_expenses = [100, 125, -90, 345, 655, -1, 0, 200]",
      "metadata": {
        "trusted": true
      },
      "execution_count": 61,
      "outputs": []
    },
    {
      "cell_type": "code",
      "source": "total_expenses = [i if i > 0 else ad_expenses.pop() for i in ad_expenses]",
      "metadata": {
        "trusted": true
      },
      "execution_count": 62,
      "outputs": []
    },
    {
      "cell_type": "code",
      "source": "f'Суммарные затраты на рекламу: {sum(total_expenses)}'",
      "metadata": {
        "trusted": true
      },
      "execution_count": 63,
      "outputs": [
        {
          "execution_count": 63,
          "output_type": "execute_result",
          "data": {
            "text/plain": "'Суммарные затраты на рекламу: 1425'"
          },
          "metadata": {}
        }
      ]
    },
    {
      "cell_type": "markdown",
      "source": "## Задача 3.\n### Даны два списка.\n### Дата покупки ['2021-09-14', '2021-12-15', '2021-09-08', '2021-12-05', '2021-10-09', '2021-09-30', '2021-12-22', '2021-11-29', '2021-12-24', '2021-11-26', '2021-10-27', '2021-12-18', '2021-11-09', '2021-11-23', '2021-09-27', '2021-10-02', '2021-12-27', '2021-09-20', '2021-12-13', '2021-11-01', '2021-11-09', '2021-12-06', '2021-12-08', '2021-10-09', '2021-10-31', '2021-09-30', '2021-11-09', '2021-12-13', '2021-10-26', '2021-12-09']\n### Суммы покупок по датам [1270, 8413, 9028, 3703, 5739, 4095, 295, 4944, 5723, 3701, 4471, 651, 7037, 4274, 6275, 4988, 6930, 2971, 6592, 2004, 2822, 519, 3406, 2732, 5015, 2008, 316, 6333, 5700, 2887]",
      "metadata": {}
    },
    {
      "cell_type": "markdown",
      "source": "### 3.1 Найдите, какая выручка у компании в ноябре (Используйте list comprehensions)",
      "metadata": {}
    },
    {
      "cell_type": "code",
      "source": "purchase_date = [\n    '2021-09-14', '2021-12-15', '2021-09-08', '2021-12-05', '2021-10-09', '2021-09-30', '2021-12-22', '2021-11-29', '2021-12-24', '2021-11-26', \n    '2021-10-27', '2021-12-18', '2021-11-09', '2021-11-23', '2021-09-27', '2021-10-02', '2021-12-27', '2021-09-20', '2021-12-13', '2021-11-01', \n    '2021-11-09', '2021-12-06', '2021-12-08', '2021-10-09', '2021-10-31', '2021-09-30', '2021-11-09', '2021-12-13', '2021-10-26', '2021-12-09'\n]\npurchase_value = [\n    1270, 8413, 9028, 3703, 5739, 4095, 295, 4944, 5723, 3701, 4471, 651, 7037, 4274, 6275, 4988, 6930, 2971, 6592, 2004, 2822, 519, 3406, 2732, \n    5015, 2008, 316, 6333, 5700, 2887\n]",
      "metadata": {
        "trusted": true
      },
      "execution_count": 64,
      "outputs": []
    },
    {
      "cell_type": "code",
      "source": "f'Выручка у компании в ноябре: {sum([purchase_value[i] for i in range(len(purchase_date) - 1) if \"-11-\" in purchase_date[i]])}'",
      "metadata": {
        "trusted": true
      },
      "execution_count": 65,
      "outputs": [
        {
          "execution_count": 65,
          "output_type": "execute_result",
          "data": {
            "text/plain": "'Выручка у компании в ноябре: 25098'"
          },
          "metadata": {}
        }
      ]
    },
    {
      "cell_type": "markdown",
      "source": "### 3.2 Найдите выручку компании в зависимости от месяца\n### Для этого напишите функцию, которая на вход принимает список с датами и список с выручкой, а на выходе словарь, где ключи - это месяцы, а значения - это выручка. Используйте аннотирование типов.",
      "metadata": {}
    },
    {
      "cell_type": "code",
      "source": "def sales(date: list, cost: list) -> list:\n    sales_dict = {}\n    for i in range(len(date)):\n        for i in range(len(cost)):\n            sales_dict.update({date[i]: cost[i]})\n    return sales_dict",
      "metadata": {
        "trusted": true
      },
      "execution_count": 102,
      "outputs": []
    },
    {
      "cell_type": "code",
      "source": "revenue_dict = sales(purchase_date, purchase_value)",
      "metadata": {
        "trusted": true
      },
      "execution_count": 103,
      "outputs": []
    },
    {
      "cell_type": "code",
      "source": "revenue_dict",
      "metadata": {
        "trusted": true
      },
      "execution_count": 104,
      "outputs": [
        {
          "execution_count": 104,
          "output_type": "execute_result",
          "data": {
            "text/plain": "{'2021-09-14': 1270,\n '2021-12-15': 8413,\n '2021-09-08': 9028,\n '2021-12-05': 3703,\n '2021-10-09': 2732,\n '2021-09-30': 2008,\n '2021-12-22': 295,\n '2021-11-29': 4944,\n '2021-12-24': 5723,\n '2021-11-26': 3701,\n '2021-10-27': 4471,\n '2021-12-18': 651,\n '2021-11-09': 316,\n '2021-11-23': 4274,\n '2021-09-27': 6275,\n '2021-10-02': 4988,\n '2021-12-27': 6930,\n '2021-09-20': 2971,\n '2021-12-13': 6333,\n '2021-11-01': 2004,\n '2021-12-06': 519,\n '2021-12-08': 3406,\n '2021-10-31': 5015,\n '2021-10-26': 5700,\n '2021-12-09': 2887}"
          },
          "metadata": {}
        }
      ]
    },
    {
      "cell_type": "code",
      "source": "f'Выручка у компании в сентябре: {sum([purchase_value[i] for i in range(len(purchase_date) - 1) if \"-09-\" in purchase_date[i]])}'",
      "metadata": {
        "trusted": true
      },
      "execution_count": 105,
      "outputs": [
        {
          "execution_count": 105,
          "output_type": "execute_result",
          "data": {
            "text/plain": "'Выручка у компании в сентябре: 25647'"
          },
          "metadata": {}
        }
      ]
    },
    {
      "cell_type": "code",
      "source": "f'Выручка у компании в октябре: {sum([purchase_value[i] for i in range(len(purchase_date) - 1) if \"-10-\" in purchase_date[i]])}'",
      "metadata": {
        "trusted": true
      },
      "execution_count": 106,
      "outputs": [
        {
          "execution_count": 106,
          "output_type": "execute_result",
          "data": {
            "text/plain": "'Выручка у компании в октябре: 28645'"
          },
          "metadata": {}
        }
      ]
    },
    {
      "cell_type": "code",
      "source": "f'Выручка у компании в ноябре: {sum([purchase_value[i] for i in range(len(purchase_date) - 1) if \"-11-\" in purchase_date[i]])}'",
      "metadata": {
        "trusted": true
      },
      "execution_count": 107,
      "outputs": [
        {
          "execution_count": 107,
          "output_type": "execute_result",
          "data": {
            "text/plain": "'Выручка у компании в ноябре: 25098'"
          },
          "metadata": {}
        }
      ]
    },
    {
      "cell_type": "code",
      "source": "f'Выручка у компании в декабре: {sum([purchase_value[i] for i in range(len(purchase_date) - 1) if \"-12-\" in purchase_date[i]])}'",
      "metadata": {
        "trusted": true
      },
      "execution_count": 108,
      "outputs": [
        {
          "execution_count": 108,
          "output_type": "execute_result",
          "data": {
            "text/plain": "'Выручка у компании в декабре: 42565'"
          },
          "metadata": {}
        }
      ]
    },
    {
      "cell_type": "code",
      "source": "def final_dict(month, revenue):\n    dict_months = {}\n    dict_months['september'] = sum([purchase_value[i] for i in range(len(purchase_date) - 1) if \"-09-\" in purchase_date[i]])\n    dict_months['october'] = sum([purchase_value[i] for i in range(len(purchase_date) - 1) if \"-10-\" in purchase_date[i]])\n    dict_months['november'] = sum([purchase_value[i] for i in range(len(purchase_date) - 1) if \"-11-\" in purchase_date[i]])\n    dict_months['december'] = sum([purchase_value[i] for i in range(len(purchase_date) - 1) if \"-12-\" in purchase_date[i]])\n\n    return dict_months",
      "metadata": {
        "trusted": true
      },
      "execution_count": 109,
      "outputs": []
    },
    {
      "cell_type": "code",
      "source": "final_dict(purchase_date, purchase_value)",
      "metadata": {
        "trusted": true
      },
      "execution_count": 110,
      "outputs": [
        {
          "execution_count": 110,
          "output_type": "execute_result",
          "data": {
            "text/plain": "{'september': 25647, 'october': 28645, 'november': 25098, 'december': 42565}"
          },
          "metadata": {}
        }
      ]
    }
  ]
}